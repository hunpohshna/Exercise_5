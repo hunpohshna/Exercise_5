{
 "cells": [
  {
   "cell_type": "markdown",
   "id": "1c3ea901-8609-49db-9ed0-afb5473503ff",
   "metadata": {},
   "source": [
    "### Import necessary libraries"
   ]
  },
  {
   "cell_type": "code",
   "execution_count": null,
   "id": "60ecb463-5b1c-408f-b1a1-23b2238b69d8",
   "metadata": {},
   "outputs": [],
   "source": []
  },
  {
   "cell_type": "markdown",
   "id": "b9b3f668-ad45-47ff-9ea3-264bf599cbcc",
   "metadata": {},
   "source": [
    "### Data Collection & Analysis"
   ]
  },
  {
   "cell_type": "code",
   "execution_count": null,
   "id": "4475840e-53e1-4a61-8cc1-1ed0b4e74534",
   "metadata": {},
   "outputs": [],
   "source": []
  },
  {
   "cell_type": "markdown",
   "id": "d31ee8c3-e4b9-48e4-a2c0-f669ae72d6b6",
   "metadata": {},
   "source": [
    "### 1. Display Top 5 Rows of The Dataset"
   ]
  },
  {
   "cell_type": "code",
   "execution_count": null,
   "id": "59fd90ec-e753-4fd1-a0bb-6e46fa3c19ce",
   "metadata": {},
   "outputs": [],
   "source": []
  },
  {
   "cell_type": "markdown",
   "id": "f125f67b-220a-4822-ba34-f176b54fb212",
   "metadata": {},
   "source": [
    "### 2. Check Last 5 Rows of The Dataset"
   ]
  },
  {
   "cell_type": "code",
   "execution_count": null,
   "id": "d9c20277-b245-475c-9272-f5265640d857",
   "metadata": {},
   "outputs": [],
   "source": []
  },
  {
   "cell_type": "markdown",
   "id": "f561dafd-6594-4275-9fc3-9dc49f2d7944",
   "metadata": {},
   "source": [
    "### 3. Find Shape of Our Dataset (Number of Rows And Number of Columns)"
   ]
  },
  {
   "cell_type": "code",
   "execution_count": null,
   "id": "e6469864-3d95-47e8-bc67-f336f561ca2f",
   "metadata": {},
   "outputs": [],
   "source": []
  },
  {
   "cell_type": "markdown",
   "id": "83780ece-34b1-4983-97f1-61fbd1996183",
   "metadata": {},
   "source": [
    "### 4. Get Information About Our Dataset Like Total Number Rows, Total Number of Columns, Datatypes of Each Column And Memory Requirement"
   ]
  },
  {
   "cell_type": "code",
   "execution_count": null,
   "id": "bf4bba0c-d0ff-425b-8a38-997b67fbec84",
   "metadata": {},
   "outputs": [],
   "source": []
  },
  {
   "cell_type": "markdown",
   "id": "bc8a1eda-8920-4ffe-8c90-9ac4661991b2",
   "metadata": {},
   "source": [
    "### 5.Check Null Values In The Dataset"
   ]
  },
  {
   "cell_type": "code",
   "execution_count": null,
   "id": "9bfa1574-82ce-47a8-b81a-992d45109847",
   "metadata": {},
   "outputs": [],
   "source": []
  },
  {
   "cell_type": "markdown",
   "id": "20829125-7043-4b46-8d72-17dad07218ad",
   "metadata": {},
   "source": [
    "### 6. Get Overall Statistics About The Dataset"
   ]
  },
  {
   "cell_type": "code",
   "execution_count": null,
   "id": "3106fa34-4ae9-48fa-ba2b-b3d7af30b421",
   "metadata": {},
   "outputs": [],
   "source": []
  },
  {
   "cell_type": "markdown",
   "id": "84884dea-d5d5-44be-923c-f7b5f2bcdaa5",
   "metadata": {},
   "source": [
    "#### Data visualization raw Data"
   ]
  },
  {
   "cell_type": "code",
   "execution_count": null,
   "id": "3ae2c85c-4ec2-4a5e-9f6b-579c2c3bdbf3",
   "metadata": {},
   "outputs": [],
   "source": []
  },
  {
   "cell_type": "markdown",
   "id": "7ad2464f-9d14-4557-b993-420de7a535fd",
   "metadata": {},
   "source": [
    "### 7. Kmeans Clustering testing"
   ]
  },
  {
   "cell_type": "code",
   "execution_count": null,
   "id": "cea85cd3-3183-4277-a2f0-88fb28d8b60c",
   "metadata": {},
   "outputs": [],
   "source": []
  },
  {
   "cell_type": "markdown",
   "id": "7bba8be4-2f1d-4aa9-9221-b9733c3c86f0",
   "metadata": {},
   "source": [
    "### 8. Elbow Method To Find Optimal Number of Clusters"
   ]
  },
  {
   "cell_type": "code",
   "execution_count": null,
   "id": "f321a940-0521-4ee6-b2b9-e437c7c9e3cb",
   "metadata": {},
   "outputs": [],
   "source": []
  },
  {
   "cell_type": "markdown",
   "id": "5f77b9a0-15ab-42ad-aee9-9cb993309683",
   "metadata": {},
   "source": [
    "### 9. Model Training"
   ]
  },
  {
   "cell_type": "code",
   "execution_count": null,
   "id": "7a17e228-fe42-4ef7-a37d-955e78adc4d1",
   "metadata": {},
   "outputs": [],
   "source": []
  },
  {
   "cell_type": "markdown",
   "id": "9d46155d-ae0b-428b-8e85-d485b7cc17f2",
   "metadata": {},
   "source": [
    "### 10. Evaluating the KMeans Model Using Silhouette Score"
   ]
  },
  {
   "cell_type": "code",
   "execution_count": null,
   "id": "f412308b-e775-430e-abd3-d11656437ee8",
   "metadata": {},
   "outputs": [],
   "source": []
  },
  {
   "cell_type": "markdown",
   "id": "f2f3e29c-a59f-4bbd-9c1c-4cd33f31b828",
   "metadata": {},
   "source": [
    "### 11. Use your Model to predict real life data of new customer"
   ]
  },
  {
   "cell_type": "code",
   "execution_count": null,
   "id": "bf17ef50-6000-4c7b-8d27-409ca1f120c3",
   "metadata": {},
   "outputs": [],
   "source": []
  }
 ],
 "metadata": {
  "kernelspec": {
   "display_name": "Python 3 (ipykernel)",
   "language": "python",
   "name": "python3"
  },
  "language_info": {
   "codemirror_mode": {
    "name": "ipython",
    "version": 3
   },
   "file_extension": ".py",
   "mimetype": "text/x-python",
   "name": "python",
   "nbconvert_exporter": "python",
   "pygments_lexer": "ipython3",
   "version": "3.11.7"
  }
 },
 "nbformat": 4,
 "nbformat_minor": 5
}
